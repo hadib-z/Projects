{
 "cells": [
  {
   "cell_type": "markdown",
   "metadata": {},
   "source": [
    "## Sentiment Classification: classifying IMDB reviews\n",
    "\n",
    "In this task, you will learn how to process text data and how to train neural networks with limited input text data using pre-trained embeddings for sentiment classification (classifying a review document as \"positive\" or \"negative\" based solely on the text content of the review)."
   ]
  },
  {
   "cell_type": "markdown",
   "metadata": {},
   "source": [
    "We will use the `Embedding` layer in Keras to represent text input. The `Embedding` layer is best understood as a dictionary mapping integer indices (which stand for specific words) to dense vectors. It takes as input integers, then looks up these integers into an internal dictionary, and finally returns the associated vectors. It's effectively a dictionary lookup.\n",
    "\n",
    "The `Embedding` layer takes as input a 2D tensor of integers, of shape `(samples, sequence_length)`, where each entry is a sequence of integers. It can embed sequences of variable lengths, so for instance we could feed into our embedding layer above batches that could have  shapes `(32, 10)` (batch of 32 sequences of length 10) or `(64, 15)` (batch of 64 sequences of length 15). All sequences in a batch must have the same length, though (since we need to pack them into a single tensor), so sequences that are shorter than others should be padded with zeros, and sequences that are longer should be truncated.\n",
    "\n",
    "This layer returns a 3D floating point tensor, of shape `(samples, sequence_length, embedding_dimensionality)`. Such a 3D tensor can then be processed by a RNN layer or a 1D convolution layer.\n",
    "\n",
    "You can instantiate the `Embedding` layer by randomly initialising its weights (its internal dictionary of token vectors). During training, these word vectors will be gradually adjusted via backpropagation, structuring the space into something that the downstream model can exploit. Once fully trained, your embedding space will show a lot of structure -- a kind of structure specialized for the specific problem you were training your model for. You can also instantiate the `Embedding` layer by intialising its weights using the pre-trained word embeddings, such as GloVe word embeddings pretrained from Wikipedia articles."
   ]
  },
  {
   "cell_type": "markdown",
   "metadata": {},
   "source": [
    "#### a) Download the IMDB data as raw text\n",
    "\n",
    "First, create a \"data\" directory, then head to `http://ai.stanford.edu/~amaas/data/sentiment/` and download the raw IMDB dataset (if the URL isn't working anymore, just Google \"IMDB dataset\"). Save it into the \"data\" directory. Uncompress it. Store the individual reviews into a list of strings, one string per review, and also collect the review labels (positive / negative) into a separate `labels` list."
   ]
  },
  {
   "cell_type": "code",
   "execution_count": 1,
   "metadata": {},
   "outputs": [
    {
     "name": "stderr",
     "output_type": "stream",
     "text": [
      "Using TensorFlow backend.\n"
     ]
    }
   ],
   "source": [
    "import os\n",
    "\n",
    "# write your code here\n",
    "\n",
    "import random\n",
    "from keras.utils import to_categorical\n",
    "import numpy as np\n",
    "\n",
    "\"\"\" Declaring directory paths \"\"\"\n",
    "\n",
    "data_dir = \"./aclImdb/\"\n",
    "\n",
    "pos_test = \"test/pos/\"\n",
    "neg_test = \"test/neg/\"\n",
    "\n",
    "pos_train = \"train/pos/\"\n",
    "neg_train = \"train/neg/\"\n",
    "\n",
    "\n",
    "\"\"\" Arranging review filepaths \"\"\"\n",
    "\n",
    "pos_test_names = [data_dir+pos_test+i for i in os.listdir(data_dir+pos_test)]\n",
    "neg_test_names = [data_dir+neg_test+i for i in os.listdir(data_dir+neg_test)]\n",
    "\n",
    "pos_train_names = [data_dir+pos_train+i for i in os.listdir(data_dir+pos_train)]\n",
    "neg_train_names = [data_dir+neg_train+i for i in os.listdir(data_dir+neg_train)]\n",
    "\n",
    "\n",
    "\"\"\" Sorting train set and labels \"\"\"\n",
    "\n",
    "# fetching pos train set\n",
    "random.seed(5)\n",
    "random.shuffle(pos_train_names)\n",
    "pos_train_set = pos_train_names[:500]\n",
    "\n",
    "# fething neg train set \n",
    "random.seed(5)\n",
    "random.shuffle(neg_train_names)\n",
    "neg_train_set = neg_train_names[:500]\n",
    "\n",
    "\n",
    "train_set = []\n",
    "train_labels =[]\n",
    "\n",
    "for i in pos_train_set:\n",
    "    with open(i, encoding=\"utf-8\") as f:\n",
    "        lines = f.readlines()\n",
    "        s = \"\".join(lines)\n",
    "        train_set.append(s)\n",
    "        train_labels.append(1)\n",
    "        \n",
    "for i in neg_train_set:\n",
    "    with open(i, encoding=\"utf-8\") as f:\n",
    "        lines = f.readlines()\n",
    "        s= \"\".join(lines)\n",
    "        train_set.append(s)\n",
    "        train_labels.append(0)\n",
    "        \n",
    "train_y = to_categorical(np.array(train_labels))\n",
    "\n",
    "\n",
    "\"\"\" Sorting validation set \"\"\"\n",
    "\n",
    "# validation set will include 100 reviews\n",
    "pos_val_set = pos_train_names[-50:]\n",
    "neg_val_set = neg_train_names[-50:]\n",
    "\n",
    "val_set = []\n",
    "val_labels = []\n",
    "\n",
    "for i in pos_val_set:\n",
    "    with open(i, encoding=\"utf-8\") as f:\n",
    "        lines = f.readlines()\n",
    "        s = \"\".join(lines)\n",
    "        val_set.append(s)\n",
    "        val_labels.append(1)\n",
    "        \n",
    "for i in neg_val_set:\n",
    "    with open(i, encoding=\"utf-8\") as f:\n",
    "        lines = f.readlines()\n",
    "        s= \"\".join(lines)\n",
    "        val_set.append(s)\n",
    "        val_labels.append(0)\n",
    "\n",
    "\n",
    "\"\"\" Sorting test set and labels \"\"\"\n",
    "\n",
    "test_set = []\n",
    "test_labels =[]\n",
    "\n",
    "for i in pos_test_names:\n",
    "    with open(i, encoding=\"utf-8\") as f:\n",
    "        lines = f.readlines()\n",
    "        s = \"\".join(lines)\n",
    "        test_set.append(s)\n",
    "        test_labels.append(1)\n",
    "        \n",
    "for i in neg_test_names:\n",
    "    with open(i, encoding=\"utf-8\") as f:\n",
    "        lines = f.readlines()\n",
    "        s= \"\".join(lines)\n",
    "        test_set.append(s)\n",
    "        test_labels.append(0)\n",
    "\n",
    "test_y = to_categorical(np.array(test_labels))\n",
    "\n",
    "#full = train_set + test_set"
   ]
  },
  {
   "cell_type": "markdown",
   "metadata": {},
   "source": [
    "#### b) Pre-process the review documents \n",
    "\n",
    "Pre-process review documents by tokenisation and split the data into the training and testing sets. You can restrict the training data to the first 1000 reviews and only consider the top 5,000 words in the dataset. You can also cut reviews after 100 words (that is, each review contains a maximum of 100 words)."
   ]
  },
  {
   "cell_type": "code",
   "execution_count": 2,
   "metadata": {},
   "outputs": [
    {
     "name": "stdout",
     "output_type": "stream",
     "text": [
      "Found 18969 unique tokens.\n",
      "Found 87393 unique tokens.\n"
     ]
    }
   ],
   "source": [
    "from keras.preprocessing.text import Tokenizer\n",
    "from keras.preprocessing.sequence import pad_sequences\n",
    "import numpy as np\n",
    "\n",
    "# write your code here\n",
    "\n",
    "max_words = 5000\n",
    "seq_len = 100\n",
    "\n",
    "# initiate tokeniser with max words 5000 and lowercase the text\n",
    "tokeniser = Tokenizer(num_words=max_words, lower=True)\n",
    "\n",
    "# fit on train set\n",
    "tokeniser.fit_on_texts(train_set)\n",
    "\n",
    "# converts text to sequences (replace text with numbers)\n",
    "sequences = tokeniser.texts_to_sequences(train_set)\n",
    "\n",
    "# prints number of unique tokens\n",
    "word_index = tokeniser.word_index\n",
    "print('Found {} unique tokens.'.format(len(word_index)))\n",
    "\n",
    "# sets all reviews to length 100\n",
    "data = pad_sequences(sequences, maxlen = seq_len)\n",
    "\n",
    "\n",
    "\"\"\" Test prepoc \"\"\"\n",
    "\n",
    "# initiate tokeniser with max words 5000 and lowercase the text\n",
    "tkn = Tokenizer(num_words=max_words, lower=True)\n",
    "# fit on train set\n",
    "tkn.fit_on_texts(test_set)\n",
    "\n",
    "# converts text to sequences (replace text with numbers)\n",
    "seqs = tokeniser.texts_to_sequences(test_set)\n",
    "\n",
    "# prints number of unique tokens\n",
    "wi = tkn.word_index\n",
    "print('Found {} unique tokens.'.format(len(wi)))\n",
    "\n",
    "# sets all reviews to length 100\n",
    "test_data = pad_sequences(seqs, maxlen = seq_len)"
   ]
  },
  {
   "cell_type": "markdown",
   "metadata": {},
   "source": [
    "#### c) Download the GloVe word embeddings and map each word in the dataset into its pre-trained GloVe word embedding.\n",
    "\n",
    "First go to `https://nlp.stanford.edu/projects/glove/` and download the pre-trained \n",
    "embeddings from 2014 English Wikipedia into the \"data\" directory. It's a 822MB zip file named `glove.6B.zip`, containing 100-dimensional embedding vectors for \n",
    "400,000 words (or non-word tokens). Un-zip it.\n",
    "\n",
    "Parse the un-zipped file (it's a `txt` file) to build an index mapping words (as strings) to their vector representation (as number vectors).\n",
    "\n",
    "Build an embedding matrix that will be loaded into an `Embedding` layer later. It must be a matrix of shape `(max_words, embedding_dim)`, where each entry `i` contains the `embedding_dim`-dimensional vector for the word of index `i` in our reference word index \n",
    "(built during tokenization). Note that the index `0` is not supposed to stand for any word or token -- it's a placeholder."
   ]
  },
  {
   "cell_type": "code",
   "execution_count": 3,
   "metadata": {},
   "outputs": [
    {
     "name": "stdout",
     "output_type": "stream",
     "text": [
      "Found 400000 word vectors.\n"
     ]
    }
   ],
   "source": [
    "# write your code here\n",
    "\n",
    "\n",
    "\"\"\" Importing glove embeddings \"\"\"\n",
    "\n",
    "embeddings_index = {}\n",
    "\n",
    "with open(\"glove.6B.100d.txt\", encoding=\"utf-8\") as f:\n",
    "    for line in f:\n",
    "        values = line.split()\n",
    "        word = values[0]\n",
    "        coefs = np.asarray(values[1:], dtype='float32')\n",
    "        embeddings_index[word] = coefs\n",
    "\n",
    "print(\"Found {} word vectors.\".format(len(embeddings_index)))\n",
    "\n",
    "\n",
    "\"\"\" Creating embedding matrix \"\"\"\n",
    "\n",
    "# initialise a zero matrix\n",
    "embedding_matrix = np.zeros((len(word_index) + 1, seq_len))\n",
    "\n",
    "# compute matrix\n",
    "for word, i in word_index.items():\n",
    "    embedding_vector = embeddings_index.get(word)\n",
    "    if embedding_vector is not None:\n",
    "        # words not found in embedding index will be all-zeros.\n",
    "        embedding_matrix[i] = embedding_vector"
   ]
  },
  {
   "cell_type": "markdown",
   "metadata": {},
   "source": [
    "#### d) Build and train a simple Sequential model\n",
    "\n",
    "The model contains an Embedding Layer with maximum number of tokens to be 10,000 and embedding dimensionality as 100. Initialise the Embedding Layer with the pre-trained GloVe word vectors. Set the maximum length of each review to 100. Flatten the 3D embedding output to 2D and add a Dense Layer which is the classifier. Train the model with a 'rmsprop' optimiser. You need to freeze the embedding layer by setting its `trainable` attribute to `False` so that its weights will not be updated during training."
   ]
  },
  {
   "cell_type": "code",
   "execution_count": 4,
   "metadata": {},
   "outputs": [
    {
     "name": "stdout",
     "output_type": "stream",
     "text": [
      "WARNING:tensorflow:From G:\\Software\\Python\\anaconda_dist\\lib\\site-packages\\tensorflow\\python\\framework\\op_def_library.py:263: colocate_with (from tensorflow.python.framework.ops) is deprecated and will be removed in a future version.\n",
      "Instructions for updating:\n",
      "Colocations handled automatically by placer.\n",
      "WARNING:tensorflow:From G:\\Software\\Python\\anaconda_dist\\lib\\site-packages\\tensorflow\\python\\ops\\math_ops.py:3066: to_int32 (from tensorflow.python.ops.math_ops) is deprecated and will be removed in a future version.\n",
      "Instructions for updating:\n",
      "Use tf.cast instead.\n",
      "Train on 900 samples, validate on 100 samples\n",
      "Epoch 1/50\n",
      "900/900 [==============================] - 0s 417us/step - loss: 7.9715 - acc: 0.5378 - val_loss: 13.0557 - val_acc: 0.0000e+00\n",
      "Epoch 2/50\n",
      "900/900 [==============================] - 0s 46us/step - loss: 8.3221 - acc: 0.7044 - val_loss: 11.7662 - val_acc: 1.0000\n",
      "Epoch 3/50\n",
      "900/900 [==============================] - 0s 41us/step - loss: 7.6471 - acc: 0.4444 - val_loss: 11.7662 - val_acc: 1.0000\n",
      "Epoch 4/50\n",
      "900/900 [==============================] - 0s 36us/step - loss: 7.6471 - acc: 0.4444 - val_loss: 11.7662 - val_acc: 1.0000\n",
      "Epoch 5/50\n",
      "900/900 [==============================] - 0s 36us/step - loss: 7.6471 - acc: 0.4444 - val_loss: 11.7662 - val_acc: 1.0000\n",
      "Epoch 6/50\n",
      "900/900 [==============================] - 0s 37us/step - loss: 7.6471 - acc: 0.4444 - val_loss: 11.7662 - val_acc: 1.0000\n",
      "Epoch 7/50\n",
      "900/900 [==============================] - 0s 36us/step - loss: 7.6471 - acc: 0.4444 - val_loss: 11.7662 - val_acc: 1.0000\n",
      "Epoch 8/50\n",
      "900/900 [==============================] - 0s 36us/step - loss: 7.6471 - acc: 0.4444 - val_loss: 11.7662 - val_acc: 1.0000\n",
      "Epoch 9/50\n",
      "900/900 [==============================] - 0s 37us/step - loss: 7.6471 - acc: 0.4444 - val_loss: 11.7662 - val_acc: 1.0000\n",
      "Epoch 10/50\n",
      "900/900 [==============================] - 0s 41us/step - loss: 7.6471 - acc: 0.4444 - val_loss: 11.7662 - val_acc: 1.0000\n",
      "Epoch 11/50\n",
      "900/900 [==============================] - 0s 36us/step - loss: 7.6471 - acc: 0.4444 - val_loss: 11.7662 - val_acc: 1.0000\n",
      "Epoch 12/50\n",
      "900/900 [==============================] - 0s 35us/step - loss: 7.6471 - acc: 0.4444 - val_loss: 11.7662 - val_acc: 1.0000\n",
      "Epoch 13/50\n",
      "900/900 [==============================] - 0s 38us/step - loss: 7.6471 - acc: 0.4444 - val_loss: 11.7662 - val_acc: 1.0000\n",
      "Epoch 14/50\n",
      "900/900 [==============================] - 0s 36us/step - loss: 7.6471 - acc: 0.4444 - val_loss: 11.7662 - val_acc: 1.0000\n",
      "Epoch 15/50\n",
      "900/900 [==============================] - 0s 36us/step - loss: 7.6471 - acc: 0.4444 - val_loss: 11.7662 - val_acc: 1.0000\n",
      "Epoch 16/50\n",
      "900/900 [==============================] - 0s 36us/step - loss: 7.6471 - acc: 0.4444 - val_loss: 11.7662 - val_acc: 1.0000\n",
      "Epoch 17/50\n",
      "900/900 [==============================] - 0s 38us/step - loss: 7.6471 - acc: 0.4444 - val_loss: 11.7662 - val_acc: 1.0000\n",
      "Epoch 18/50\n",
      "900/900 [==============================] - 0s 44us/step - loss: 7.6471 - acc: 0.4444 - val_loss: 11.7662 - val_acc: 1.0000\n",
      "Epoch 19/50\n",
      "900/900 [==============================] - 0s 42us/step - loss: 7.6471 - acc: 0.4444 - val_loss: 11.7662 - val_acc: 1.0000\n",
      "Epoch 20/50\n",
      "900/900 [==============================] - 0s 47us/step - loss: 7.6471 - acc: 0.4444 - val_loss: 11.7662 - val_acc: 1.0000\n",
      "Epoch 21/50\n",
      "900/900 [==============================] - 0s 38us/step - loss: 7.6471 - acc: 0.4444 - val_loss: 11.7662 - val_acc: 1.0000\n",
      "Epoch 22/50\n",
      "900/900 [==============================] - 0s 39us/step - loss: 7.6471 - acc: 0.4444 - val_loss: 11.7662 - val_acc: 1.0000\n",
      "Epoch 23/50\n",
      "900/900 [==============================] - 0s 36us/step - loss: 7.6471 - acc: 0.4444 - val_loss: 11.7662 - val_acc: 1.0000\n",
      "Epoch 24/50\n",
      "900/900 [==============================] - 0s 36us/step - loss: 7.6471 - acc: 0.4444 - val_loss: 11.7662 - val_acc: 1.0000\n",
      "Epoch 25/50\n",
      "900/900 [==============================] - 0s 36us/step - loss: 7.6471 - acc: 0.4444 - val_loss: 11.7662 - val_acc: 1.0000\n",
      "Epoch 26/50\n",
      "900/900 [==============================] - 0s 36us/step - loss: 7.6471 - acc: 0.4444 - val_loss: 11.7662 - val_acc: 1.0000\n",
      "Epoch 27/50\n",
      "900/900 [==============================] - 0s 35us/step - loss: 7.6471 - acc: 0.4444 - val_loss: 11.7662 - val_acc: 1.0000\n",
      "Epoch 28/50\n",
      "900/900 [==============================] - 0s 36us/step - loss: 7.6471 - acc: 0.4444 - val_loss: 11.7662 - val_acc: 1.0000\n",
      "Epoch 29/50\n",
      "900/900 [==============================] - 0s 36us/step - loss: 7.6471 - acc: 0.4444 - val_loss: 11.7662 - val_acc: 1.0000\n",
      "Epoch 30/50\n",
      "900/900 [==============================] - 0s 37us/step - loss: 7.6471 - acc: 0.4444 - val_loss: 11.7662 - val_acc: 1.0000\n",
      "Epoch 31/50\n",
      "900/900 [==============================] - 0s 43us/step - loss: 7.6471 - acc: 0.4444 - val_loss: 11.7662 - val_acc: 1.0000\n",
      "Epoch 32/50\n",
      "900/900 [==============================] - 0s 41us/step - loss: 7.6471 - acc: 0.4444 - val_loss: 11.7662 - val_acc: 1.0000\n",
      "Epoch 33/50\n",
      "900/900 [==============================] - 0s 43us/step - loss: 7.6471 - acc: 0.4444 - val_loss: 11.7662 - val_acc: 1.0000\n",
      "Epoch 34/50\n",
      "900/900 [==============================] - 0s 48us/step - loss: 7.6471 - acc: 0.4444 - val_loss: 11.7662 - val_acc: 1.0000\n",
      "Epoch 35/50\n",
      "900/900 [==============================] - 0s 169us/step - loss: 7.6471 - acc: 0.4444 - val_loss: 11.7662 - val_acc: 1.0000\n",
      "Epoch 36/50\n",
      "900/900 [==============================] - 0s 53us/step - loss: 7.6471 - acc: 0.4444 - val_loss: 11.7662 - val_acc: 1.0000\n",
      "Epoch 37/50\n",
      "900/900 [==============================] - 0s 37us/step - loss: 7.6471 - acc: 0.4444 - val_loss: 11.7662 - val_acc: 1.0000\n",
      "Epoch 38/50\n",
      "900/900 [==============================] - 0s 36us/step - loss: 7.6471 - acc: 0.4444 - val_loss: 11.7662 - val_acc: 1.0000\n",
      "Epoch 39/50\n",
      "900/900 [==============================] - 0s 36us/step - loss: 7.6471 - acc: 0.4444 - val_loss: 11.7662 - val_acc: 1.0000\n",
      "Epoch 40/50\n",
      "900/900 [==============================] - 0s 35us/step - loss: 7.6471 - acc: 0.4444 - val_loss: 11.7662 - val_acc: 1.0000\n",
      "Epoch 41/50\n",
      "900/900 [==============================] - 0s 36us/step - loss: 7.6471 - acc: 0.4444 - val_loss: 11.7662 - val_acc: 1.0000\n",
      "Epoch 42/50\n",
      "900/900 [==============================] - 0s 37us/step - loss: 7.6471 - acc: 0.4444 - val_loss: 11.7662 - val_acc: 1.0000\n",
      "Epoch 43/50\n",
      "900/900 [==============================] - 0s 36us/step - loss: 7.6471 - acc: 0.4444 - val_loss: 11.7662 - val_acc: 1.0000\n",
      "Epoch 44/50\n",
      "900/900 [==============================] - 0s 36us/step - loss: 7.6471 - acc: 0.4444 - val_loss: 11.7662 - val_acc: 1.0000\n",
      "Epoch 45/50\n",
      "900/900 [==============================] - 0s 37us/step - loss: 7.6471 - acc: 0.4444 - val_loss: 11.7662 - val_acc: 1.0000\n",
      "Epoch 46/50\n",
      "900/900 [==============================] - 0s 36us/step - loss: 7.6471 - acc: 0.4444 - val_loss: 11.7662 - val_acc: 1.0000\n",
      "Epoch 47/50\n",
      "900/900 [==============================] - 0s 36us/step - loss: 7.6471 - acc: 0.4444 - val_loss: 11.7662 - val_acc: 1.0000\n",
      "Epoch 48/50\n",
      "900/900 [==============================] - 0s 36us/step - loss: 7.6471 - acc: 0.4444 - val_loss: 11.7662 - val_acc: 1.0000\n",
      "Epoch 49/50\n",
      "900/900 [==============================] - 0s 36us/step - loss: 7.6471 - acc: 0.4444 - val_loss: 11.7662 - val_acc: 1.0000\n",
      "Epoch 50/50\n",
      "900/900 [==============================] - 0s 36us/step - loss: 7.6471 - acc: 0.4444 - val_loss: 11.7662 - val_acc: 1.0000\n"
     ]
    }
   ],
   "source": [
    "from keras.models import Sequential\n",
    "from keras.layers import Embedding, Flatten, Dense\n",
    "\n",
    "# write your code here\n",
    "\n",
    "\n",
    "\"\"\" Building simple model \"\"\"\n",
    "\n",
    "# set batch size\n",
    "batch = 32\n",
    "\n",
    "# initialise the model\n",
    "model = Sequential()\n",
    "\n",
    "# add embedding layer \n",
    "model.add(Embedding(len(word_index) + 1,\n",
    "                    100,\n",
    "                    weights = [embedding_matrix],\n",
    "                    input_length=seq_len,\n",
    "                    trainable=False\n",
    "                    ))\n",
    "\n",
    "\n",
    "# flatten the model to convert output to 2d from 3d\n",
    "model.add(Flatten())\n",
    "\n",
    "# add a dense layer\n",
    "model.add(Dense(2))\n",
    "\n",
    "# compile the model\n",
    "model.compile(\n",
    "        loss=\"categorical_crossentropy\",\n",
    "        optimizer = \"rmsprop\",\n",
    "        metrics=['acc']\n",
    "        )\n",
    "\n",
    "\n",
    "\"\"\" Fitting model \"\"\"\n",
    "\n",
    "simple = model.fit(\n",
    "        x = data,\n",
    "        y = train_y,\n",
    "        validation_split = 0.1,  # 10% will be used for validation\n",
    "        verbose = 1, # useful to see whats going on\n",
    "        shuffle = False,  # for reproducibility \n",
    "        epochs = 50,\n",
    "        batch_size = batch\n",
    "        )\n",
    "\n"
   ]
  },
  {
   "cell_type": "markdown",
   "metadata": {},
   "source": [
    "#### e) Plot the training and validation loss and accuracies and evaluate the trained model on the test set.\n",
    "\n",
    "What do you observe from the results?"
   ]
  },
  {
   "cell_type": "code",
   "execution_count": 5,
   "metadata": {},
   "outputs": [
    {
     "data": {
      "text/plain": [
       "<Figure size 640x480 with 1 Axes>"
      ]
     },
     "metadata": {},
     "output_type": "display_data"
    },
    {
     "data": {
      "text/plain": [
       "<Figure size 640x480 with 1 Axes>"
      ]
     },
     "metadata": {},
     "output_type": "display_data"
    },
    {
     "name": "stdout",
     "output_type": "stream",
     "text": [
      "25000/25000 [==============================] - 0s 13us/step\n",
      "simple model accuracy:  0.5\n"
     ]
    },
    {
     "data": {
      "text/plain": [
       "'\\nResults:\\n    Both graphs are separted horizontal lines with validatio showing an\\n    accuracy of 1. This is seems suspicious as it is too good to be true.\\n    Further investigation is required. \\n'"
      ]
     },
     "execution_count": 5,
     "metadata": {},
     "output_type": "execute_result"
    }
   ],
   "source": [
    "import matplotlib.pyplot as plt\n",
    "\n",
    "# write your code here\n",
    "\n",
    "\"\"\" Plotting Loss Curves \"\"\"\n",
    "\n",
    "plt.plot(simple.history[\"loss\"], label=\"Train\")\n",
    "plt.plot(simple.history[\"val_loss\"], label=\"Validation\")\n",
    "plt.title('Simple Loss')\n",
    "plt.ylabel('Loss')\n",
    "plt.xlabel('Epoch')\n",
    "plt.legend()\n",
    "plt.show()\n",
    "\n",
    "\n",
    "\"\"\" Plotting accuracy curves \"\"\"\n",
    "\n",
    "plt.plot(simple.history[\"acc\"], label=\"Train\")\n",
    "plt.plot(simple.history[\"val_acc\"], label=\"Validation\")\n",
    "plt.title('Simple Accuracy')\n",
    "plt.ylabel('Accuracy')\n",
    "plt.xlabel('Epoch')\n",
    "plt.legend()\n",
    "plt.show()\n",
    "\n",
    "\n",
    "\"\"\" Evaluating on test data \"\"\"\n",
    "\n",
    "acc_1 = model.evaluate(\n",
    "        x = test_data,\n",
    "        y= test_y\n",
    "        )\n",
    "\n",
    "print(\"simple model accuracy: \", acc_1[1])\n",
    "\n",
    "\n",
    "\n",
    "\"\"\"\n",
    "Results:\n",
    "    Both graphs are separted horizontal lines with validatio showing an\n",
    "    accuracy of 1. This is seems suspicious as it is too good to be true.\n",
    "    Further investigation is required. \n",
    "\"\"\"\n"
   ]
  },
  {
   "cell_type": "markdown",
   "metadata": {},
   "source": [
    "#### f) Add an LSTM layer into the simple neural network architecture and re-train the model on the training set, plot the training and validation loss/accuracies, also evaluate the trained model on the test set and report the result."
   ]
  },
  {
   "cell_type": "code",
   "execution_count": 6,
   "metadata": {},
   "outputs": [
    {
     "name": "stdout",
     "output_type": "stream",
     "text": [
      "Train on 900 samples, validate on 100 samples\n",
      "Epoch 1/5\n",
      "900/900 [==============================] - 34s 38ms/step - loss: 5.0585 - acc: 0.5578 - val_loss: 1.4506 - val_acc: 1.0000\n",
      "Epoch 2/5\n",
      "900/900 [==============================] - 33s 36ms/step - loss: 9.1349 - acc: 0.6222 - val_loss: 11.4660 - val_acc: 0.9900\n",
      "Epoch 3/5\n",
      "900/900 [==============================] - 35s 38ms/step - loss: 7.6476 - acc: 0.4456 - val_loss: 13.5392 - val_acc: 1.0000\n",
      "Epoch 4/5\n",
      "900/900 [==============================] - 37s 41ms/step - loss: 6.6203 - acc: 0.4356 - val_loss: 8.1814 - val_acc: 0.4500\n",
      "Epoch 5/5\n",
      "900/900 [==============================] - 34s 37ms/step - loss: 5.5679 - acc: 0.8044 - val_loss: 8.2221 - val_acc: 0.5400\n"
     ]
    },
    {
     "data": {
      "image/png": "[encoded data removed]",
      "text/plain": [
       "<Figure size 432x288 with 1 Axes>"
      ]
     },
     "metadata": {
      "needs_background": "light"
     },
     "output_type": "display_data"
    },
    {
     "data": {
      "image/png": "[encoded data removed]",
      "text/plain": [
       "<Figure size 432x288 with 1 Axes>"
      ]
     },
     "metadata": {
      "needs_background": "light"
     },
     "output_type": "display_data"
    },
    {
     "name": "stdout",
     "output_type": "stream",
     "text": [
      "25000/25000 [==============================] - 5s 182us/step\n",
      "new model accuracy:  0.50736\n"
     ]
    },
    {
     "data": {
      "text/plain": [
       "\"\\nResults:\\n    Our situation hasn't improved but in fact has gotten worse as it seems the \\n    validation and train lines have swapped places implying a total faliure. \\n    Although the new model does see little improvement in the evaluated accuracy\\n    so that could be a win.\\n    Further investigation is required to fix this. \\n\""
      ]
     },
     "execution_count": 6,
     "metadata": {},
     "output_type": "execute_result"
    }
   ],
   "source": [
    "from keras.layers import LSTM\n",
    "\n",
    "# write your code here\n",
    "\n",
    "\"\"\" Building LSTM model \"\"\"\n",
    "\n",
    "# setting bath size\n",
    "batch = 1\n",
    "\n",
    "# initialise the model\n",
    "ad = Sequential()\n",
    "\n",
    "# add embedding layer \n",
    "ad.add(Embedding(len(word_index) + 1,\n",
    "                    100,\n",
    "                    weights = [embedding_matrix],\n",
    "                    input_length=seq_len,\n",
    "                    trainable=False\n",
    "                    ))\n",
    "\n",
    "ad.add(LSTM(6, return_sequences=True))\n",
    "\n",
    "# flatten the model to convert output to 2d from 3d\n",
    "ad.add(Flatten())\n",
    "\n",
    "# add a dense layer\n",
    "ad.add(Dense(2))\n",
    "\n",
    "# compile the model\n",
    "ad.compile(\n",
    "        loss=\"categorical_crossentropy\",\n",
    "        optimizer = \"rmsprop\",\n",
    "        metrics=['acc']\n",
    "        )\n",
    "\n",
    "\n",
    "\"\"\" Fitting model \"\"\"\n",
    "\n",
    "ls = ad.fit(\n",
    "        x = data,\n",
    "        y = train_y,\n",
    "        validation_split = 0.1,\n",
    "        verbose = 1,\n",
    "        shuffle = False,\n",
    "        epochs = 5,\n",
    "        batch_size = batch\n",
    "        )\n",
    "\n",
    "\"\"\" Plotting Loss Curves \"\"\"\n",
    "\n",
    "plt.plot(ls.history[\"loss\"], label=\"Train\")\n",
    "plt.plot(ls.history[\"val_loss\"], label=\"Validation\")\n",
    "plt.title('LSTM Loss')\n",
    "plt.ylabel('Loss')\n",
    "plt.xlabel('Epoch')\n",
    "plt.legend()\n",
    "plt.show()\n",
    "\n",
    "\n",
    "\"\"\" Plotting accuracy curves \"\"\"\n",
    "\n",
    "plt.plot(ls.history[\"acc\"], label=\"Train\")\n",
    "plt.plot(ls.history[\"val_acc\"], label=\"Validation\")\n",
    "plt.title('LSTM Accuracy')\n",
    "plt.ylabel('Accuracy')\n",
    "plt.xlabel('Epoch')\n",
    "plt.legend()\n",
    "plt.show()\n",
    "\n",
    "\n",
    "\"\"\" Test evaluation \"\"\"\n",
    "\n",
    "### evaluating ###\n",
    "acc_2 = ad.evaluate(\n",
    "        x = test_data,\n",
    "        y= test_y\n",
    "        )\n",
    "\n",
    "print(\"new model accuracy: \", acc_2[1])\n",
    "\n",
    "\"\"\"\n",
    "Results:\n",
    "    Our situation hasn't improved but in fact has gotten worse as it seems the \n",
    "    validation and train lines have swapped places implying a total faliure. \n",
    "    Although the new model does see little improvement in the evaluated accuracy\n",
    "    so that could be a win.\n",
    "    Further investigation is required to fix this. \n",
    "\"\"\"\n"
   ]
  }
 ],
 "metadata": {
  "kernelspec": {
   "display_name": "Python 3",
   "language": "python",
   "name": "python3"
  },
  "language_info": {
   "codemirror_mode": {
    "name": "ipython",
    "version": 3
   },
   "file_extension": ".py",
   "mimetype": "text/x-python",
   "name": "python",
   "nbconvert_exporter": "python",
   "pygments_lexer": "ipython3",
   "version": "3.6.8"
  }
 },
 "nbformat": 4,
 "nbformat_minor": 2
}
